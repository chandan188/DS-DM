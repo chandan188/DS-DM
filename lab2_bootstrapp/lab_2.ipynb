{
 "cells": [
  {
   "cell_type": "markdown",
   "metadata": {
    "id": "aqkLsnzyrAZe"
   },
   "source": [
    "#IMPORT LIBRARY"
   ]
  },
  {
   "cell_type": "markdown",
   "metadata": {
    "id": "-P0Gryd75Rs6"
   },
   "source": [
    "In this notebook you'll create your own bootstrap function following the bootstrap algorithm (check the lecture notes!)\n",
    "\n"
   ]
  },
  {
   "cell_type": "code",
   "execution_count": 43,
   "metadata": {
    "colab": {
     "base_uri": "https://localhost:8080/"
    },
    "executionInfo": {
     "elapsed": 1879,
     "status": "ok",
     "timestamp": 1647487825522,
     "user": {
      "displayName": "supasun kumpraphan",
      "photoUrl": "https://lh3.googleusercontent.com/a/default-user=s64",
      "userId": "09405620092166473782"
     },
     "user_tz": 0
    },
    "id": "RTGQ5D0Z6xIa",
    "outputId": "05a29890-0aaa-4de8-c178-d728b89042a0"
   },
   "outputs": [
    {
     "name": "stdout",
     "output_type": "stream",
     "text": [
      "Drive already mounted at /content/drive; to attempt to forcibly remount, call drive.mount(\"/content/drive\", force_remount=True).\n"
     ]
    }
   ],
   "source": [
    "from google.colab import drive\n",
    "drive.mount('/content/drive')"
   ]
  },
  {
   "cell_type": "code",
   "execution_count": 1,
   "metadata": {
    "executionInfo": {
     "elapsed": 14,
     "status": "ok",
     "timestamp": 1647487825523,
     "user": {
      "displayName": "supasun kumpraphan",
      "photoUrl": "https://lh3.googleusercontent.com/a/default-user=s64",
      "userId": "09405620092166473782"
     },
     "user_tz": 0
    },
    "id": "lhr0FpPrp00G"
   },
   "outputs": [],
   "source": [
    "import matplotlib\n",
    "import pandas as pd\n",
    "import seaborn as sns\n",
    "import numpy as np"
   ]
  },
  {
   "cell_type": "code",
   "execution_count": 3,
   "metadata": {
    "executionInfo": {
     "elapsed": 14,
     "status": "ok",
     "timestamp": 1647487825524,
     "user": {
      "displayName": "supasun kumpraphan",
      "photoUrl": "https://lh3.googleusercontent.com/a/default-user=s64",
      "userId": "09405620092166473782"
     },
     "user_tz": 0
    },
    "id": "gC6Ze6KAp305"
   },
   "outputs": [],
   "source": [
    "# Load the data\n",
    "df = pd.read_csv('customers.csv')\n",
    "all_data_customer = df.values.T[1]"
   ]
  },
  {
   "cell_type": "code",
   "execution_count": 4,
   "metadata": {
    "colab": {
     "base_uri": "https://localhost:8080/"
    },
    "executionInfo": {
     "elapsed": 13,
     "status": "ok",
     "timestamp": 1647487825524,
     "user": {
      "displayName": "supasun kumpraphan",
      "photoUrl": "https://lh3.googleusercontent.com/a/default-user=s64",
      "userId": "09405620092166473782"
     },
     "user_tz": 0
    },
    "id": "gjB2mb7gRPPB",
    "outputId": "6838ab77-3a2b-4139-93ee-e88f4a62f58a"
   },
   "outputs": [
    {
     "name": "stdout",
     "output_type": "stream",
     "text": [
      "(14, 2)\n",
      "[ 2.  8. 20. 13.  5.  9. 10.  8. 22. 10.  2.  4.  7.  9.]\n"
     ]
    }
   ],
   "source": [
    "print(df.shape)\n",
    "print(all_data_customer)"
   ]
  },
  {
   "cell_type": "code",
   "execution_count": 5,
   "metadata": {
    "colab": {
     "base_uri": "https://localhost:8080/"
    },
    "executionInfo": {
     "elapsed": 12,
     "status": "ok",
     "timestamp": 1647487825525,
     "user": {
      "displayName": "supasun kumpraphan",
      "photoUrl": "https://lh3.googleusercontent.com/a/default-user=s64",
      "userId": "09405620092166473782"
     },
     "user_tz": 0
    },
    "id": "aFjdbGWrRVqd",
    "outputId": "49fbbe15-e881-4fd4-b807-e99f40943530"
   },
   "outputs": [
    {
     "name": "stdout",
     "output_type": "stream",
     "text": [
      "arrays -----\n",
      "[[10.  8. 22. 10.  5. 10.  9.  9. 10.  8.]\n",
      " [ 7.  8. 20.  9.  8. 22.  8.  9.  9.  4.]\n",
      " [10. 10. 20.  8.  5.  7. 10. 10.  2.  9.]\n",
      " [ 8.  9. 10. 10.  5.  8.  4. 20. 20. 22.]\n",
      " [ 8. 10.  2.  5.  2.  7. 22.  2. 20. 10.]]\n",
      "5\n",
      "individual means - \n",
      "[10.1 10.4  9.1 11.6  8.8]\n",
      "individual means - \n",
      "[10.1 10.4  9.1 11.6  8.8]\n",
      "sorted array of means -  [ 8.8  9.1 10.1 10.4 11.6]\n",
      "data mean -  10.0\n",
      "8.83 11.48\n",
      "8.92 11.12\n"
     ]
    }
   ],
   "source": [
    "sample_size = 10\n",
    "n_bootstraps = 5\n",
    "\n",
    "d_array = np.random.choice(all_data_customer,size=(n_bootstraps,sample_size))\n",
    "print(\"arrays -----\")\n",
    "print(d_array)\n",
    "print(d_array.shape[0])\n",
    "\n",
    "# d_mean_arr = d_array.nanmean(axis = 1)\n",
    "d_mean_arr = np.nanmean(d_array, axis=1)\n",
    "print(\"individual means - \")\n",
    "print(d_mean_arr)\n",
    "\n",
    "d_mean_arr = d_array.mean(axis=1)\n",
    "print(\"individual means - \")\n",
    "print(d_mean_arr)\n",
    "\n",
    "d_mean_arr_sort = np.sort(d_mean_arr)\n",
    "print(\"sorted array of means - \", d_mean_arr_sort)\n",
    "\n",
    "print(\"data mean - \", np.mean(d_mean_arr_sort))\n",
    "\n",
    "print(np.percentile(d_mean_arr_sort, 2.5),np.percentile(d_mean_arr_sort, 97.5))\n",
    "print(np.percentile(d_mean_arr_sort, 10),np.percentile(d_mean_arr_sort, 90.0))"
   ]
  },
  {
   "cell_type": "code",
   "execution_count": 6,
   "metadata": {
    "executionInfo": {
     "elapsed": 9,
     "status": "ok",
     "timestamp": 1647487825525,
     "user": {
      "displayName": "supasun kumpraphan",
      "photoUrl": "https://lh3.googleusercontent.com/a/default-user=s64",
      "userId": "09405620092166473782"
     },
     "user_tz": 0
    },
    "id": "vymldsSBrN1j"
   },
   "outputs": [],
   "source": [
    "# Checking the notes from the lecture, create here your own bootstrap function:\n",
    "# 1. Sample from the input array x to create an array of samples of shape (n_bootstraps, sample_size)\n",
    "# Hint: Check the function random.choice() on Numpy\n",
    "# 2. Calculate and save the mean of the array (this is \"data_mean\" that is returned by the function)\n",
    "# 3. Calculate the mean from each bootstrap (i.e., row) and store it.\n",
    "# (This should be an array of n_bootstraps values)\n",
    "# 4. Calculate the lower and upper bounds for a 95% CI (hint: check the percentile function on Numpy)\n",
    "# 5. Return data_mean, and the lower and upper bounds of your interval\n",
    "def bootstrap_mean(x, sample_size, n_bootstraps):\n",
    "\td_array = np.random.choice(x,size=(n_bootstraps,sample_size))\n",
    "\td_mean_arr = d_array.mean(axis = 1)\n",
    "\td_mean_arr_sort = np.sort(d_mean_arr)\n",
    "\tdata_mean = np.mean(d_mean_arr_sort)\n",
    "\tlower = np.percentile(d_mean_arr_sort, 2.5)\n",
    "\tupper = np.percentile(d_mean_arr_sort, 97.5)\n",
    "\treturn data_mean, lower, upper"
   ]
  },
  {
   "cell_type": "code",
   "execution_count": 7,
   "metadata": {
    "colab": {
     "base_uri": "https://localhost:8080/",
     "height": 442
    },
    "executionInfo": {
     "elapsed": 1009,
     "status": "ok",
     "timestamp": 1647487826526,
     "user": {
      "displayName": "supasun kumpraphan",
      "photoUrl": "https://lh3.googleusercontent.com/a/default-user=s64",
      "userId": "09405620092166473782"
     },
     "user_tz": 0
    },
    "id": "Ysc_tWidrPlD",
    "outputId": "052aebf3-c2f8-45e4-e0b7-0d0a3c116dfb"
   },
   "outputs": [
    {
     "name": "stderr",
     "output_type": "stream",
     "text": [
      "C:\\Users\\suchi\\anaconda3\\envs\\tensor\\lib\\site-packages\\seaborn\\_decorators.py:43: FutureWarning: Pass the following variables as keyword args: x, y. From version 0.12, the only valid positional argument will be `data`, and passing other arguments without an explicit keyword will result in an error or misinterpretation.\n",
      "  FutureWarning\n"
     ]
    },
    {
     "data": {
      "text/plain": [
       "(0.0, 50000.0)"
      ]
     },
     "execution_count": 7,
     "metadata": {},
     "output_type": "execute_result"
    },
    {
     "data": {
      "image/png": "[encoded data removed]",
      "text/plain": [
       "<Figure size 425.125x360 with 1 Axes>"
      ]
     },
     "metadata": {
      "needs_background": "light"
     },
     "output_type": "display_data"
    }
   ],
   "source": [
    "# Call your bootstrap function and plot the results\n",
    "\n",
    "boots = []\n",
    "for i in range(100, 50000, 1000):\n",
    "    boot = bootstrap_mean(all_data_customer, all_data_customer.shape[0], i)\n",
    "    boots.append([i, boot[0], \"mean\"])\n",
    "    boots.append([i, boot[1], \"lower\"])\n",
    "    boots.append([i, boot[2], \"upper\"])\n",
    "\n",
    "df_boot = pd.DataFrame(boots, columns=['Bootstrap Iterations', 'Mean', \"Value\"])\n",
    "sns_plot = sns.lmplot(df_boot.columns[0], df_boot.columns[1], data=df_boot, fit_reg=False, hue=\"Value\")\n",
    "\n",
    "sns_plot.axes[0, 0].set_ylim(0,)\n",
    "sns_plot.axes[0, 0].set_xlim(0, 50000)"
   ]
  },
  {
   "cell_type": "markdown",
   "metadata": {
    "id": "xsptx6_g5W-7"
   },
   "source": [
    "Now, modify the bootstrap function you created above so that you can pass your desired confidence interval as a parameter.\n",
    "\n"
   ]
  },
  {
   "cell_type": "code",
   "execution_count": 8,
   "metadata": {
    "executionInfo": {
     "elapsed": 16,
     "status": "ok",
     "timestamp": 1647487826527,
     "user": {
      "displayName": "supasun kumpraphan",
      "photoUrl": "https://lh3.googleusercontent.com/a/default-user=s64",
      "userId": "09405620092166473782"
     },
     "user_tz": 0
    },
    "id": "X-jTViLm-lKK"
   },
   "outputs": [],
   "source": [
    "#     d_mean_arr = d_array.mean(axis = 1, skipna = True)\n",
    "def bootstrap_mean_ci(sample, sample_size, n_bootstraps, ci):\n",
    "\t# <---INSERT YOUR CODE HERE--->\n",
    "    d_array = np.random.choice(sample,size=(n_bootstraps,sample_size))\n",
    "    d_mean_arr = np.nanmean(d_array, axis=1)\n",
    "    d_mean_arr_sort = np.sort(d_mean_arr)\n",
    "    data_mean = np.mean(d_mean_arr_sort)\n",
    "    lower_ci = (100-ci)/2\n",
    "    upper_ci = 100-lower_ci\n",
    "    lower = np.percentile(d_mean_arr_sort, lower_ci)\n",
    "    upper = np.percentile(d_mean_arr_sort, upper_ci)\n",
    "    return data_mean, lower, upper"
   ]
  },
  {
   "cell_type": "markdown",
   "metadata": {
    "id": "OMA8YfrJFjAX"
   },
   "source": [
    "Standard deviation bootstrap function..."
   ]
  },
  {
   "cell_type": "code",
   "execution_count": 9,
   "metadata": {
    "executionInfo": {
     "elapsed": 14,
     "status": "ok",
     "timestamp": 1647487826527,
     "user": {
      "displayName": "supasun kumpraphan",
      "photoUrl": "https://lh3.googleusercontent.com/a/default-user=s64",
      "userId": "09405620092166473782"
     },
     "user_tz": 0
    },
    "id": "dnaN4bDoFlpa"
   },
   "outputs": [],
   "source": [
    "def bootstrap_sd_ci(sample, sample_size, n_bootstraps, ci):\n",
    "\t# <---INSERT YOUR CODE HERE--->\n",
    "    d_array = np.random.choice(sample,size=(n_bootstraps,sample_size))\n",
    "    d_std_arr = np.std(d_array, axis=1)\n",
    "    d_std_arr_sort = np.sort(d_std_arr)\n",
    "    data_std = np.std(d_std_arr_sort)\n",
    "    lower_ci = (100-ci)/2\n",
    "    upper_ci = 100-lower_ci\n",
    "    lower = np.percentile(d_std_arr_sort, lower_ci)\n",
    "    upper = np.percentile(d_std_arr_sort, upper_ci)\n",
    "    return data_std, lower, upper"
   ]
  },
  {
   "cell_type": "code",
   "execution_count": 10,
   "metadata": {
    "colab": {
     "base_uri": "https://localhost:8080/",
     "height": 442
    },
    "executionInfo": {
     "elapsed": 1064,
     "status": "ok",
     "timestamp": 1647487827578,
     "user": {
      "displayName": "supasun kumpraphan",
      "photoUrl": "https://lh3.googleusercontent.com/a/default-user=s64",
      "userId": "09405620092166473782"
     },
     "user_tz": 0
    },
    "id": "5ypqb2H1sky1",
    "outputId": "4d38bda7-fdca-4d66-c92a-1d3d254e2e67"
   },
   "outputs": [
    {
     "name": "stderr",
     "output_type": "stream",
     "text": [
      "C:\\Users\\suchi\\anaconda3\\envs\\tensor\\lib\\site-packages\\seaborn\\_decorators.py:43: FutureWarning: Pass the following variables as keyword args: x, y. From version 0.12, the only valid positional argument will be `data`, and passing other arguments without an explicit keyword will result in an error or misinterpretation.\n",
      "  FutureWarning\n"
     ]
    },
    {
     "data": {
      "text/plain": [
       "(0.0, 50000.0)"
      ]
     },
     "execution_count": 10,
     "metadata": {},
     "output_type": "execute_result"
    },
    {
     "data": {
      "image/png": "[encoded data removed]",
      "text/plain": [
       "<Figure size 425.125x360 with 1 Axes>"
      ]
     },
     "metadata": {
      "needs_background": "light"
     },
     "output_type": "display_data"
    }
   ],
   "source": [
    "boots = []\n",
    "for i in range(100, 50000, 1000):\n",
    "    boot = bootstrap_mean_ci(all_data_customer, all_data_customer.shape[0], i, 80)\n",
    "    boots.append([i, boot[0], \"mean\"])\n",
    "    boots.append([i, boot[1], \"lower\"])\n",
    "    boots.append([i, boot[2], \"upper\"])\n",
    "\n",
    "df_boot = pd.DataFrame(boots, columns=['Boostrap Iterations', 'Mean', \"Value\"])\n",
    "sns_plot = sns.lmplot(df_boot.columns[0], df_boot.columns[1], data=df_boot, fit_reg=False, hue=\"Value\")\n",
    "\n",
    "sns_plot.axes[0, 0].set_ylim(0,)\n",
    "sns_plot.axes[0, 0].set_xlim(0, 50000)\n",
    "\n",
    "#sns_plot.savefig(\"bootstrap_confidence_80.pdf\", bbox_inches='tight')"
   ]
  },
  {
   "cell_type": "code",
   "execution_count": 11,
   "metadata": {
    "colab": {
     "base_uri": "https://localhost:8080/",
     "height": 423
    },
    "executionInfo": {
     "elapsed": 11,
     "status": "ok",
     "timestamp": 1647487827579,
     "user": {
      "displayName": "supasun kumpraphan",
      "photoUrl": "https://lh3.googleusercontent.com/a/default-user=s64",
      "userId": "09405620092166473782"
     },
     "user_tz": 0
    },
    "id": "sjrF1VDX-7bc",
    "outputId": "3355a1bd-5480-4018-8783-7b51b504c1a0"
   },
   "outputs": [
    {
     "data": {
      "text/html": [
       "<div>\n",
       "<style scoped>\n",
       "    .dataframe tbody tr th:only-of-type {\n",
       "        vertical-align: middle;\n",
       "    }\n",
       "\n",
       "    .dataframe tbody tr th {\n",
       "        vertical-align: top;\n",
       "    }\n",
       "\n",
       "    .dataframe thead th {\n",
       "        text-align: right;\n",
       "    }\n",
       "</style>\n",
       "<table border=\"1\" class=\"dataframe\">\n",
       "  <thead>\n",
       "    <tr style=\"text-align: right;\">\n",
       "      <th></th>\n",
       "      <th>Boostrap Iterations</th>\n",
       "      <th>Mean</th>\n",
       "      <th>Value</th>\n",
       "    </tr>\n",
       "  </thead>\n",
       "  <tbody>\n",
       "    <tr>\n",
       "      <th>0</th>\n",
       "      <td>100</td>\n",
       "      <td>9.206429</td>\n",
       "      <td>mean</td>\n",
       "    </tr>\n",
       "    <tr>\n",
       "      <th>1</th>\n",
       "      <td>100</td>\n",
       "      <td>7.214286</td>\n",
       "      <td>lower</td>\n",
       "    </tr>\n",
       "    <tr>\n",
       "      <th>2</th>\n",
       "      <td>100</td>\n",
       "      <td>11.164286</td>\n",
       "      <td>upper</td>\n",
       "    </tr>\n",
       "    <tr>\n",
       "      <th>3</th>\n",
       "      <td>1100</td>\n",
       "      <td>9.255714</td>\n",
       "      <td>mean</td>\n",
       "    </tr>\n",
       "    <tr>\n",
       "      <th>4</th>\n",
       "      <td>1100</td>\n",
       "      <td>7.285714</td>\n",
       "      <td>lower</td>\n",
       "    </tr>\n",
       "    <tr>\n",
       "      <th>...</th>\n",
       "      <td>...</td>\n",
       "      <td>...</td>\n",
       "      <td>...</td>\n",
       "    </tr>\n",
       "    <tr>\n",
       "      <th>145</th>\n",
       "      <td>48100</td>\n",
       "      <td>7.285714</td>\n",
       "      <td>lower</td>\n",
       "    </tr>\n",
       "    <tr>\n",
       "      <th>146</th>\n",
       "      <td>48100</td>\n",
       "      <td>11.214286</td>\n",
       "      <td>upper</td>\n",
       "    </tr>\n",
       "    <tr>\n",
       "      <th>147</th>\n",
       "      <td>49100</td>\n",
       "      <td>9.212131</td>\n",
       "      <td>mean</td>\n",
       "    </tr>\n",
       "    <tr>\n",
       "      <th>148</th>\n",
       "      <td>49100</td>\n",
       "      <td>7.285714</td>\n",
       "      <td>lower</td>\n",
       "    </tr>\n",
       "    <tr>\n",
       "      <th>149</th>\n",
       "      <td>49100</td>\n",
       "      <td>11.214286</td>\n",
       "      <td>upper</td>\n",
       "    </tr>\n",
       "  </tbody>\n",
       "</table>\n",
       "<p>150 rows × 3 columns</p>\n",
       "</div>"
      ],
      "text/plain": [
       "     Boostrap Iterations       Mean  Value\n",
       "0                    100   9.206429   mean\n",
       "1                    100   7.214286  lower\n",
       "2                    100  11.164286  upper\n",
       "3                   1100   9.255714   mean\n",
       "4                   1100   7.285714  lower\n",
       "..                   ...        ...    ...\n",
       "145                48100   7.285714  lower\n",
       "146                48100  11.214286  upper\n",
       "147                49100   9.212131   mean\n",
       "148                49100   7.285714  lower\n",
       "149                49100  11.214286  upper\n",
       "\n",
       "[150 rows x 3 columns]"
      ]
     },
     "execution_count": 11,
     "metadata": {},
     "output_type": "execute_result"
    }
   ],
   "source": [
    "df_boot"
   ]
  },
  {
   "cell_type": "markdown",
   "metadata": {
    "id": "ybVhOhPS5fKz"
   },
   "source": [
    "#Vehicles dataset"
   ]
  },
  {
   "cell_type": "markdown",
   "metadata": {
    "id": "wvXP6-BQ5lsh"
   },
   "source": [
    "Now let's work on a different dataset, which is stored in the vehicles.csv file."
   ]
  },
  {
   "cell_type": "code",
   "execution_count": 22,
   "metadata": {
    "colab": {
     "base_uri": "https://localhost:8080/",
     "height": 1000
    },
    "executionInfo": {
     "elapsed": 674,
     "status": "ok",
     "timestamp": 1647487828244,
     "user": {
      "displayName": "supasun kumpraphan",
      "photoUrl": "https://lh3.googleusercontent.com/a/default-user=s64",
      "userId": "09405620092166473782"
     },
     "user_tz": 0
    },
    "id": "kQt3Uo2419j_",
    "outputId": "9de806d5-e1e8-42a6-8a7c-c9e0489181da"
   },
   "outputs": [
    {
     "name": "stderr",
     "output_type": "stream",
     "text": [
      "C:\\Users\\suchi\\anaconda3\\envs\\tensor\\lib\\site-packages\\seaborn\\_decorators.py:43: FutureWarning: Pass the following variables as keyword args: x, y. From version 0.12, the only valid positional argument will be `data`, and passing other arguments without an explicit keyword will result in an error or misinterpretation.\n",
      "  FutureWarning\n",
      "C:\\Users\\suchi\\anaconda3\\envs\\tensor\\lib\\site-packages\\seaborn\\_decorators.py:43: FutureWarning: Pass the following variables as keyword args: x, y. From version 0.12, the only valid positional argument will be `data`, and passing other arguments without an explicit keyword will result in an error or misinterpretation.\n",
      "  FutureWarning\n"
     ]
    },
    {
     "data": {
      "text/html": [
       "<div>\n",
       "<style scoped>\n",
       "    .dataframe tbody tr th:only-of-type {\n",
       "        vertical-align: middle;\n",
       "    }\n",
       "\n",
       "    .dataframe tbody tr th {\n",
       "        vertical-align: top;\n",
       "    }\n",
       "\n",
       "    .dataframe thead th {\n",
       "        text-align: right;\n",
       "    }\n",
       "</style>\n",
       "<table border=\"1\" class=\"dataframe\">\n",
       "  <thead>\n",
       "    <tr style=\"text-align: right;\">\n",
       "      <th></th>\n",
       "      <th>Car_ID</th>\n",
       "      <th>Current fleet</th>\n",
       "      <th>New Fleet</th>\n",
       "    </tr>\n",
       "  </thead>\n",
       "  <tbody>\n",
       "    <tr>\n",
       "      <th>0</th>\n",
       "      <td>1</td>\n",
       "      <td>18</td>\n",
       "      <td>24.0</td>\n",
       "    </tr>\n",
       "    <tr>\n",
       "      <th>1</th>\n",
       "      <td>2</td>\n",
       "      <td>15</td>\n",
       "      <td>27.0</td>\n",
       "    </tr>\n",
       "    <tr>\n",
       "      <th>2</th>\n",
       "      <td>3</td>\n",
       "      <td>18</td>\n",
       "      <td>27.0</td>\n",
       "    </tr>\n",
       "    <tr>\n",
       "      <th>3</th>\n",
       "      <td>4</td>\n",
       "      <td>16</td>\n",
       "      <td>25.0</td>\n",
       "    </tr>\n",
       "    <tr>\n",
       "      <th>4</th>\n",
       "      <td>5</td>\n",
       "      <td>17</td>\n",
       "      <td>31.0</td>\n",
       "    </tr>\n",
       "    <tr>\n",
       "      <th>...</th>\n",
       "      <td>...</td>\n",
       "      <td>...</td>\n",
       "      <td>...</td>\n",
       "    </tr>\n",
       "    <tr>\n",
       "      <th>244</th>\n",
       "      <td>245</td>\n",
       "      <td>27</td>\n",
       "      <td>NaN</td>\n",
       "    </tr>\n",
       "    <tr>\n",
       "      <th>245</th>\n",
       "      <td>246</td>\n",
       "      <td>27</td>\n",
       "      <td>NaN</td>\n",
       "    </tr>\n",
       "    <tr>\n",
       "      <th>246</th>\n",
       "      <td>247</td>\n",
       "      <td>32</td>\n",
       "      <td>NaN</td>\n",
       "    </tr>\n",
       "    <tr>\n",
       "      <th>247</th>\n",
       "      <td>248</td>\n",
       "      <td>28</td>\n",
       "      <td>NaN</td>\n",
       "    </tr>\n",
       "    <tr>\n",
       "      <th>248</th>\n",
       "      <td>249</td>\n",
       "      <td>31</td>\n",
       "      <td>NaN</td>\n",
       "    </tr>\n",
       "  </tbody>\n",
       "</table>\n",
       "<p>249 rows × 3 columns</p>\n",
       "</div>"
      ],
      "text/plain": [
       "     Car_ID  Current fleet  New Fleet\n",
       "0         1             18       24.0\n",
       "1         2             15       27.0\n",
       "2         3             18       27.0\n",
       "3         4             16       25.0\n",
       "4         5             17       31.0\n",
       "..      ...            ...        ...\n",
       "244     245             27        NaN\n",
       "245     246             27        NaN\n",
       "246     247             32        NaN\n",
       "247     248             28        NaN\n",
       "248     249             31        NaN\n",
       "\n",
       "[249 rows x 3 columns]"
      ]
     },
     "execution_count": 22,
     "metadata": {},
     "output_type": "execute_result"
    },
    {
     "data": {
      "image/png": "[encoded data removed]",
      "text/plain": [
       "<Figure size 360x360 with 1 Axes>"
      ]
     },
     "metadata": {
      "needs_background": "light"
     },
     "output_type": "display_data"
    },
    {
     "data": {
      "image/png": "[encoded data removed]",
      "text/plain": [
       "<Figure size 360x360 with 1 Axes>"
      ]
     },
     "metadata": {
      "needs_background": "light"
     },
     "output_type": "display_data"
    }
   ],
   "source": [
    "# Load and visualise the vehicles dataset\n",
    "# To load the dataset: https://neptune.ai/blog/google-colab-dealing-with-files (check section \"Load individual files directly from GitHub\")\n",
    "df_vehicles = pd.read_csv('vehicles.csv')\n",
    "df_vehicles.insert(0, 'Car_ID', range(1, 1 + len(df_vehicles)))\n",
    "\n",
    "\n",
    "# Note that the current and new fleets are in different columns and have different lengths, so bear this in mind when you're plotting.\n",
    "# You can create separate scatterplots for the two fleets, as you would with the histograms, \n",
    "# or plot them both in one plot (but not one against the other).\n",
    "# <---INSERT YOUR CODE HERE--->\n",
    "sns.lmplot(df_vehicles.columns[0], df_vehicles.columns[1], data=df_vehicles, fit_reg=False)\n",
    "sns.lmplot(df_vehicles.columns[0], df_vehicles.columns[2], data=df_vehicles, fit_reg=False)\n",
    "# Note: you can add more cells as needed to organise your code and your plots\n",
    "df_vehicles"
   ]
  },
  {
   "cell_type": "markdown",
   "metadata": {
    "id": "zaNlw6fg5s0Y"
   },
   "source": [
    "#Compare the two fleets\n"
   ]
  },
  {
   "cell_type": "markdown",
   "metadata": {
    "id": "MY-LuI8s5wUI"
   },
   "source": [
    "The business analysts come up a comparison algorithm that requires the upper and lower bounds for the mean in order to say which fleet is better.\n",
    "\n",
    "Calculate the mean of both samples.\n",
    "Using the bootstrap function that you created:\n",
    "Construct the 95% CI of the mean of the current fleet.\n",
    "Construct the 95% CI of the mean of the new fleet.\n",
    "Are they comparable? (i.e., is one better than the other?) -- you can do this with a permutation test (check the lecture notes!)"
   ]
  },
  {
   "cell_type": "code",
   "execution_count": 23,
   "metadata": {
    "colab": {
     "base_uri": "https://localhost:8080/"
    },
    "executionInfo": {
     "elapsed": 10,
     "status": "ok",
     "timestamp": 1647487828245,
     "user": {
      "displayName": "supasun kumpraphan",
      "photoUrl": "https://lh3.googleusercontent.com/a/default-user=s64",
      "userId": "09405620092166473782"
     },
     "user_tz": 0
    },
    "id": "_Ry0fS0f1_GG",
    "outputId": "1daef55d-af86-4888-e9f3-79ec7b931177"
   },
   "outputs": [
    {
     "name": "stdout",
     "output_type": "stream",
     "text": [
      "Car_ID           125.000000\n",
      "Current fleet     20.144578\n",
      "New Fleet         30.481013\n",
      "dtype: float64\n",
      "**********\n",
      "20.75111111111111 19.29 22.976666666666667\n",
      "*********\n",
      "0     24.0\n",
      "1     27.0\n",
      "2     27.0\n",
      "3     25.0\n",
      "4     31.0\n",
      "      ... \n",
      "74    34.0\n",
      "75    38.0\n",
      "76    32.0\n",
      "77    38.0\n",
      "78    32.0\n",
      "Name: New Fleet, Length: 79, dtype: float64\n",
      "30.505686666666662 28.466666666666665 32.53333333333333\n",
      "1.0276290146343134 3.303829378764957 8.523463030222944\n"
     ]
    }
   ],
   "source": [
    "# <---INSERT YOUR CODE HERE--->\n",
    "# 1. Calculate the mean of both samples.\n",
    "df_means = df_vehicles.mean(axis = 0, skipna = True)\n",
    "print(df_means)\n",
    "print(\"**********\")\n",
    "# bootstrap_mean_ci(sample, sample_size, n_bootstraps, ci)\n",
    "data_mean_curr, lower_curr, upper_curr = bootstrap_mean_ci(df_vehicles.iloc[:,1], 15, 15, 95)\n",
    "print(data_mean_curr, lower_curr, upper_curr)\n",
    "print(\"*********\")\n",
    "sample = df_vehicles.iloc[:,2].dropna()\n",
    "print(sample)\n",
    "data_mean_new, lower_new, upper_new = bootstrap_mean_ci(sample, 15, 10000, 80)\n",
    "print(data_mean_new, lower_new, upper_new)\n",
    "data_std_new, lower_new, upper_new = bootstrap_sd_ci(sample, 15, 10000, 99)\n",
    "print(data_std_new, lower_new, upper_new)"
   ]
  },
  {
   "cell_type": "code",
   "execution_count": 24,
   "metadata": {
    "colab": {
     "base_uri": "https://localhost:8080/"
    },
    "executionInfo": {
     "elapsed": 8,
     "status": "ok",
     "timestamp": 1647487828246,
     "user": {
      "displayName": "supasun kumpraphan",
      "photoUrl": "https://lh3.googleusercontent.com/a/default-user=s64",
      "userId": "09405620092166473782"
     },
     "user_tz": 0
    },
    "id": "VMe7t-2CDR10",
    "outputId": "5cdcc1e5-20de-42f9-c650-eeac57c85ba5"
   },
   "outputs": [
    {
     "data": {
      "text/plain": [
       "0      18\n",
       "1      15\n",
       "2      18\n",
       "3      16\n",
       "4      17\n",
       "       ..\n",
       "244    27\n",
       "245    27\n",
       "246    32\n",
       "247    28\n",
       "248    31\n",
       "Name: Current fleet, Length: 249, dtype: int64"
      ]
     },
     "execution_count": 24,
     "metadata": {},
     "output_type": "execute_result"
    }
   ],
   "source": [
    "df_vehicles.iloc[:,1]"
   ]
  },
  {
   "cell_type": "code",
   "execution_count": 25,
   "metadata": {
    "executionInfo": {
     "elapsed": 5,
     "status": "ok",
     "timestamp": 1647487828246,
     "user": {
      "displayName": "supasun kumpraphan",
      "photoUrl": "https://lh3.googleusercontent.com/a/default-user=s64",
      "userId": "09405620092166473782"
     },
     "user_tz": 0
    },
    "id": "0AVKgvWqBoI4"
   },
   "outputs": [],
   "source": [
    "# Create your own function for a permutation test here (you will need it for the lab quiz!):\n",
    "\n",
    "\n",
    "def permut_test(sample1, sample2, n_permutations):\n",
    "    \"\"\"\n",
    "    sample1: 1D array, old\n",
    "    sample2: 1D array (note that the size of the two arrays can be different), new\n",
    "    n_permutations: number of permutations to calculate the p-value\n",
    "    \"\"\"\n",
    "    tobs = np.mean(sample2)-np.mean(sample1)\n",
    "\n",
    "    concat = np.concatenate((sample1, sample2))\n",
    "    count=0    \n",
    "    for i in range(n_permutations):\n",
    "        perm = np.random.permutation(concat)\n",
    "        pold = perm[:int(len(perm)/2)]\n",
    "        pnew = perm[int(len(perm)/2):]\n",
    "        tperm = np.mean(pnew)-np.mean(pold)\n",
    "        if tperm>tobs:\n",
    "            count+=1\n",
    "    pvalue = count/n_permutations\n",
    "    return pvalue, tperm, tobs"
   ]
  },
  {
   "cell_type": "code",
   "execution_count": 26,
   "metadata": {
    "colab": {
     "base_uri": "https://localhost:8080/"
    },
    "executionInfo": {
     "elapsed": 1004,
     "status": "ok",
     "timestamp": 1647487829246,
     "user": {
      "displayName": "supasun kumpraphan",
      "photoUrl": "https://lh3.googleusercontent.com/a/default-user=s64",
      "userId": "09405620092166473782"
     },
     "user_tz": 0
    },
    "id": "E5S59wZR52wO",
    "outputId": "fa07164c-84a8-4807-cd79-946ff997bdf3"
   },
   "outputs": [
    {
     "name": "stdout",
     "output_type": "stream",
     "text": [
      "(0.0, -0.7682926829268304, 10.336434344974837)\n"
     ]
    }
   ],
   "source": [
    "current_old_data = df_vehicles.iloc[:,1]\n",
    "new_data = df_vehicles.iloc[:,2].dropna()\n",
    "\n",
    "# sample1 = [0,0,0,1,1,1,1,1,0,0,0]\n",
    "# sample2 = [1,1,1,1,1,1,1,1,1,0,0,0,0,1,0,1,0]\n",
    "\n",
    "pvalue = permut_test(current_old_data, new_data, 30000)\n",
    "print(pvalue)"
   ]
  },
  {
   "cell_type": "markdown",
   "metadata": {
    "id": "XRFPz_0_T9R9"
   },
   "source": [
    "Voting data csv"
   ]
  },
  {
   "cell_type": "code",
   "execution_count": 27,
   "metadata": {
    "colab": {
     "base_uri": "https://localhost:8080/"
    },
    "executionInfo": {
     "elapsed": 333,
     "status": "ok",
     "timestamp": 1647487829577,
     "user": {
      "displayName": "supasun kumpraphan",
      "photoUrl": "https://lh3.googleusercontent.com/a/default-user=s64",
      "userId": "09405620092166473782"
     },
     "user_tz": 0
    },
    "id": "3n0wzQ3KUBzn",
    "outputId": "1b3ad921-787b-49d8-9c9b-4043dd349c8b"
   },
   "outputs": [
    {
     "name": "stdout",
     "output_type": "stream",
     "text": [
      "67\n",
      "88\n",
      "44.32990993333334 39.345216666666666 49.307399999999994\n",
      "45.5055598 40.85794999999999 50.67401666666666\n",
      "(0.7659, 2.7763886113886045, -1.1582360922659447)\n"
     ]
    }
   ],
   "source": [
    "dem_share_PA = [60.08, 40.64, 36.07, 41.21, 31.04, 43.78, 44.08, 46.85, 44.71, 46.15, 63.10, 52.20, 43.18, 40.24, 39.92, 47.87, 37.77, 40.11, 49.85, 48.61, 38.62, 54.25, 34.84, 47.75, 43.82, 55.97, 58.23, 42.97, 42.38, 36.11, 37.53, 42.65, 50.96, 47.43, 56.24, 45.60, 46.39, 35.22, 48.56, 32.97, 57.88, 36.05, 37.72, 50.36, 32.12, 41.55, 54.66, 57.81, 54.58, 32.88, 54.37, 40.45, 47.61, 60.49, 43.11, 27.32, 44.03, 33.56, 37.26, 54.64, 43.12, 25.34, 49.79, 83.56, 40.09, 60.81, 49.81]\n",
    "dem_share_OH = [56.94, 50.46, 65.99, 45.88, 42.23, 45.26, 57.01, 53.61, 59.10, 61.48, 43.43, 44.69, 54.59, 48.36, 45.89, 48.62, 43.92, 38.23, 28.79, 63.57, 38.07, 40.18, 43.05, 41.56, 42.49, 36.06, 52.76, 46.07, 39.43, 39.26, 47.47, 27.92, 38.01, 45.45, 29.07, 28.94, 51.28, 50.10, 39.84, 36.43, 35.71, 31.47, 47.01, 40.10, 48.76, 31.56, 39.86, 45.31, 35.47, 51.38, 46.33, 48.73, 41.77, 41.32, 48.46, 53.14, 34.01, 54.74, 40.67, 38.96, 46.29, 38.25, 6.80, 31.75, 46.33, 44.90, 33.57, 38.10, 39.67, 40.47, 49.44, 37.62, 36.71, 46.73, 42.20, 53.16, 52.40, 58.36, 68.02, 38.53, 34.58, 69.64, 60.50, 53.53, 36.54, 49.58, 41.97, 38.11]\n",
    "\n",
    "print(len(dem_share_PA))\n",
    "print(len(dem_share_OH))\n",
    "\n",
    "data_mean_new, lower_new, upper_new = bootstrap_mean_ci(dem_share_OH, 15, 20000, 95)\n",
    "print(data_mean_new, lower_new, upper_new)\n",
    "\n",
    "data_mean_new, lower_new, upper_new = bootstrap_mean_ci(dem_share_PA, 15, 20000, 95)\n",
    "print(data_mean_new, lower_new, upper_new)\n",
    "\n",
    "pvalue = permut_test(dem_share_PA, dem_share_OH, 10000)\n",
    "print(pvalue)"
   ]
  },
  {
   "cell_type": "code",
   "execution_count": 28,
   "metadata": {
    "executionInfo": {
     "elapsed": 19,
     "status": "ok",
     "timestamp": 1647487829578,
     "user": {
      "displayName": "supasun kumpraphan",
      "photoUrl": "https://lh3.googleusercontent.com/a/default-user=s64",
      "userId": "09405620092166473782"
     },
     "user_tz": 0
    },
    "id": "RxAR98Rbndvy"
   },
   "outputs": [],
   "source": [
    "# 1.When you reduce the confidence interval (e.g., from 95% to 80%), the range between the lower and upper limits...\n",
    "# ans: decreases"
   ]
  },
  {
   "cell_type": "code",
   "execution_count": 48,
   "metadata": {
    "colab": {
     "base_uri": "https://localhost:8080/"
    },
    "executionInfo": {
     "elapsed": 18,
     "status": "ok",
     "timestamp": 1647487829578,
     "user": {
      "displayName": "supasun kumpraphan",
      "photoUrl": "https://lh3.googleusercontent.com/a/default-user=s64",
      "userId": "09405620092166473782"
     },
     "user_tz": 0
    },
    "id": "roio2Lr2pB5L",
    "outputId": "17150d39-76eb-44d4-ec6c-03c561e3b4b6"
   },
   "outputs": [
    {
     "data": {
      "text/plain": [
       "(20.139343373493976, 19.6144578313253, 20.667068273092372)"
      ]
     },
     "execution_count": 48,
     "metadata": {},
     "output_type": "execute_result"
    }
   ],
   "source": [
    "# 2.The 80% confidence interval for the mean of the old fleet in the vehicles dataset using 10000 iterations is (Answer, Answer). \n",
    "# Give your answer including the first two decimal points (e.g., 1.23).\n",
    "bootstrap_mean_ci(current_old_data,current_old_data.shape[0],10000,80)\n",
    "# ans: 19.63,20.66"
   ]
  },
  {
   "cell_type": "code",
   "execution_count": 49,
   "metadata": {},
   "outputs": [
    {
     "data": {
      "text/plain": [
       "(30.48912911392405, 29.151898734177216, 31.810126582278482)"
      ]
     },
     "execution_count": 49,
     "metadata": {},
     "output_type": "execute_result"
    }
   ],
   "source": [
    "# mean new fleet vehicale\n",
    "bootstrap_mean_ci(new_data,new_data.shape[0],10000,95)"
   ]
  },
  {
   "cell_type": "code",
   "execution_count": 54,
   "metadata": {},
   "outputs": [
    {
     "data": {
      "text/plain": [
       "(0.44738155123598544, 4.908416626532885, 7.19560655626605)"
      ]
     },
     "execution_count": 54,
     "metadata": {},
     "output_type": "execute_result"
    }
   ],
   "source": [
    "# std newfleet vehicle\n",
    "bootstrap_sd_ci(new_data,new_data.shape[0],10000,99)"
   ]
  },
  {
   "cell_type": "code",
   "execution_count": 50,
   "metadata": {
    "colab": {
     "base_uri": "https://localhost:8080/"
    },
    "executionInfo": {
     "elapsed": 13,
     "status": "ok",
     "timestamp": 1647487829578,
     "user": {
      "displayName": "supasun kumpraphan",
      "photoUrl": "https://lh3.googleusercontent.com/a/default-user=s64",
      "userId": "09405620092166473782"
     },
     "user_tz": 0
    },
    "id": "BRh_3hGIpTlW",
    "outputId": "a0dfc757-1606-4055-9dd3-4b4b356089a6"
   },
   "outputs": [
    {
     "data": {
      "text/plain": [
       "(9.186164285714288, 7.285714285714286, 11.214285714285714)"
      ]
     },
     "execution_count": 50,
     "metadata": {},
     "output_type": "execute_result"
    }
   ],
   "source": [
    "# 3.The 90% confidence interval for the mean of the customers dataset using 10000 iterations is (Answer, Answer). \n",
    "# Give your answer including the first two decimal points (e.g., 1.23).\n",
    "bootstrap_mean_ci(all_data_customer,all_data_customer.shape[0],10000,80)\n",
    "# ans: 6.85,11.78"
   ]
  },
  {
   "cell_type": "code",
   "execution_count": 53,
   "metadata": {
    "colab": {
     "base_uri": "https://localhost:8080/"
    },
    "executionInfo": {
     "elapsed": 11,
     "status": "ok",
     "timestamp": 1647487829579,
     "user": {
      "displayName": "supasun kumpraphan",
      "photoUrl": "https://lh3.googleusercontent.com/a/default-user=s64",
      "userId": "09405620092166473782"
     },
     "user_tz": 0
    },
    "id": "xh1XhfPNqTA1",
    "outputId": "b1cb6956-57af-4577-ec2b-f27e8fde43b2"
   },
   "outputs": [
    {
     "data": {
      "text/plain": [
       "(0.28873604785693646, 6.065221990111236, 6.702604506869542)"
      ]
     },
     "execution_count": 53,
     "metadata": {},
     "output_type": "execute_result"
    }
   ],
   "source": [
    "# 4.The 95% confidence interval for the standard deviation of the old fleet in the vehicles dataset using 10000 iterations is (Answer, Answer)\n",
    "# Give your answer including the first two decimal points (e.g., 1.23).\n",
    "bootstrap_sd_ci(current_old_data,current_old_data.shape[0],10000,73)\n",
    "# ans: 5.81,6.94"
   ]
  },
  {
   "cell_type": "code",
   "execution_count": 32,
   "metadata": {
    "colab": {
     "base_uri": "https://localhost:8080/"
    },
    "executionInfo": {
     "elapsed": 254,
     "status": "ok",
     "timestamp": 1647487829825,
     "user": {
      "displayName": "supasun kumpraphan",
      "photoUrl": "https://lh3.googleusercontent.com/a/default-user=s64",
      "userId": "09405620092166473782"
     },
     "user_tz": 0
    },
    "id": "UG55ieRBxPFM",
    "outputId": "cd875011-5941-4661-9d30-67aff4d26053"
   },
   "outputs": [
    {
     "data": {
      "text/plain": [
       "(0.29184205951706743, 6.05653905124503, 6.701791642864976)"
      ]
     },
     "execution_count": 32,
     "metadata": {},
     "output_type": "execute_result"
    }
   ],
   "source": [
    "# 5.The 73% confidence interval for the standard deviation of the old fleet in the vehicles dataset using 10000 iterations is (Answer, Answer)\n",
    "# Give your answer including the first two decimal points (e.g., 1.23).\n",
    "bootstrap_sd_ci(current_old_data,current_old_data.shape[0],10000,73)\n",
    "# ans: 6.06,6.69"
   ]
  },
  {
   "cell_type": "code",
   "execution_count": 52,
   "metadata": {
    "colab": {
     "base_uri": "https://localhost:8080/"
    },
    "executionInfo": {
     "elapsed": 6,
     "status": "ok",
     "timestamp": 1647487829826,
     "user": {
      "displayName": "supasun kumpraphan",
      "photoUrl": "https://lh3.googleusercontent.com/a/default-user=s64",
      "userId": "09405620092166473782"
     },
     "user_tz": 0
    },
    "id": "3t4y1CM9rdIb",
    "outputId": "1617cbc8-48bf-4192-fbe1-eca309181085"
   },
   "outputs": [
    {
     "data": {
      "text/plain": [
       "(1.1969804541757034, 3.2458175533740494, 6.9197292621333455)"
      ]
     },
     "execution_count": 52,
     "metadata": {},
     "output_type": "execute_result"
    }
   ],
   "source": [
    "# addition chioce.The 90% confidence interval for the standard deviation of the customers dataset using 10000 iterations is (Answer, Answer). \n",
    "# Give your answer including the first two decimal points (e.g., 1.23).\n",
    "bootstrap_sd_ci(all_data_customer,all_data_customer.shape[0],10000,85)\n",
    "# ans: 3.01,7.09"
   ]
  },
  {
   "cell_type": "code",
   "execution_count": 34,
   "metadata": {
    "executionInfo": {
     "elapsed": 4,
     "status": "ok",
     "timestamp": 1647487829826,
     "user": {
      "displayName": "supasun kumpraphan",
      "photoUrl": "https://lh3.googleusercontent.com/a/default-user=s64",
      "userId": "09405620092166473782"
     },
     "user_tz": 0
    },
    "id": "jT7iNjMjsYLQ"
   },
   "outputs": [],
   "source": [
    "# 6.Assume that you are comparing the difference in means between two sets of data through a permutation test, which has given you a p value. \n",
    "# If the significance level has been fixed at 0.05, which of the following statements are true?\n",
    "# ans: \n",
    "# 6.1.If p > 0.1, there is no difference between the two sets of data.\n",
    "# 6.2.If p < 0.05, the two sets of data are statistically different.\n",
    "# 6.3.If p < 0.05, we reject the null hypothesis."
   ]
  },
  {
   "cell_type": "code",
   "execution_count": 35,
   "metadata": {
    "colab": {
     "base_uri": "https://localhost:8080/"
    },
    "executionInfo": {
     "elapsed": 1263,
     "status": "ok",
     "timestamp": 1647487831085,
     "user": {
      "displayName": "supasun kumpraphan",
      "photoUrl": "https://lh3.googleusercontent.com/a/default-user=s64",
      "userId": "09405620092166473782"
     },
     "user_tz": 0
    },
    "id": "qKc7HwjguUWu",
    "outputId": "dfa4e381-9595-43d6-d50f-af3bf324b73a"
   },
   "outputs": [
    {
     "data": {
      "text/plain": [
       "(0.0, 2.45121951219512, 10.336434344974837)"
      ]
     },
     "execution_count": 35,
     "metadata": {},
     "output_type": "execute_result"
    }
   ],
   "source": [
    "# 7.1.Using the data from the vehicles.csv file:\n",
    "# We want to know whether the new fleet is better than the old one (i.e., if the difference in the means is positive).\n",
    "# The Null hypothesis is:\n",
    "# ans:There is no difference between the mean MPG between the old and the new fleet\n",
    "# 7.2.The alternative hypothesis is\n",
    "# The mean MPG in the new fleet is larger than the mean MPG for the old fleet\n",
    "permut_test(current_old_data, new_data, 30000)\n",
    "# 7.3. The p-value from a permutation test with 30000 permutations is Answer (give 3 decimal points, e.g., 0.456). Since this value is Answer\n",
    "# มากกว่า0.01รึป่าว?\n",
    "# ถ้าน้อยกว่าReject the Null hypothesis(Type I error) มากกว่า Fail to reject the Null hypothesis(Type II error)\n",
    "#  0.01 (our significance level), we ...\n",
    "# ans: 0, <, Reject the Null hypothesis\n",
    "# 7.4.If an error had occurred in our inference above, what type of error would it be? \n",
    "# ans: Type I error\n"
   ]
  },
  {
   "cell_type": "code",
   "execution_count": 55,
   "metadata": {},
   "outputs": [
    {
     "data": {
      "text/plain": [
       "(44.3150888340909, 41.86783977272727, 46.75092499999999)"
      ]
     },
     "execution_count": 55,
     "metadata": {},
     "output_type": "execute_result"
    }
   ],
   "source": [
    "# 8.3   For OH: \n",
    "bootstrap_mean_ci(dem_share_OH, np.shape(dem_share_OH)[0], 100000, 98)"
   ]
  },
  {
   "cell_type": "code",
   "execution_count": 56,
   "metadata": {},
   "outputs": [
    {
     "data": {
      "text/plain": [
       "(45.473698934328354, 42.80328358208955, 48.355077611940295)"
      ]
     },
     "execution_count": 56,
     "metadata": {},
     "output_type": "execute_result"
    }
   ],
   "source": [
    "#8.3  For PA: (Answer, Answer)\n",
    "bootstrap_mean_ci(dem_share_PA, np.shape(dem_share_PA)[0], 100000, 98)"
   ]
  },
  {
   "cell_type": "code",
   "execution_count": 36,
   "metadata": {
    "executionInfo": {
     "elapsed": 5,
     "status": "ok",
     "timestamp": 1647487831085,
     "user": {
      "displayName": "supasun kumpraphan",
      "photoUrl": "https://lh3.googleusercontent.com/a/default-user=s64",
      "userId": "09405620092166473782"
     },
     "user_tz": 0
    },
    "id": "ZoZ9F5kVvhM3"
   },
   "outputs": [],
   "source": [
    "# 8.1.The data for this question is in voting_data.py.\n",
    "# The file contains data for the 2008 US presidential election results from the “swing states” of PA and OH, specifically, \n",
    "# the percentage of voters who voted for the Democrats within each county in a given state. There are Answer\n",
    "# values (i.e., states) in PA and Answer in OH.\n",
    "# print(len(dem_share_PA))\n",
    "# print(len(dem_share_OH))\n",
    "# ans: 67,88\n",
    "\n",
    "# 8.2.We want to know whether voters in PA were more likely than voters in OH to support the Democratic candidate.\n",
    "# The Null hypothesis is:\n",
    "# ans: There is no difference between the mean votes for PA and OH\n",
    "# The alternative hypothesis is\n",
    "# ans:The mean in PA voting is larger than the mean in OH voting\n",
    "\n",
    "\n",
    "\n",
    "# 8.3.The 90% confidence intervals for the means of the votes using 100000 bootstraps are (give two decimal values, e.g., 1.23):\n",
    "\n",
    "# For OH: (Answer, Answer)\n",
    "# bootstrap_mean_ci(dem_share_OH, np.shape(dem_share_OH)[0], 100000, 90)\n",
    "# ans:42.57,46.04\n",
    "# For PA: (Answer, Answer)\n",
    "# bootstrap_mean_ci(dem_share_PA, np.shape(dem_share_PA)[0], 100000, 90)\n",
    "# ans: 43.55,47.46\n",
    "\n",
    "\n",
    "# 8.4.The p-value from a permutation test with 30000 permutations is 0.233\n",
    "#  (give 3 decimal points, e.g., 0.456). Since this value is >\n",
    "#  0.05 (our significance level), we Fail to reject the Null hypothesis\n",
    "# permut_test(dem_share_OH, dem_share_PA, 30000)\n",
    "# \n",
    "# \n"
   ]
  },
  {
   "cell_type": "code",
   "execution_count": 57,
   "metadata": {
    "executionInfo": {
     "elapsed": 6,
     "status": "ok",
     "timestamp": 1647487831086,
     "user": {
      "displayName": "supasun kumpraphan",
      "photoUrl": "https://lh3.googleusercontent.com/a/default-user=s64",
      "userId": "09405620092166473782"
     },
     "user_tz": 0
    },
    "id": "1CM40T1XxbQt"
   },
   "outputs": [
    {
     "data": {
      "text/plain": [
       "(0.2369, 1.1321911421911395, 1.1582360922659447)"
      ]
     },
     "execution_count": 57,
     "metadata": {},
     "output_type": "execute_result"
    }
   ],
   "source": [
    "permut_test(dem_share_OH, dem_share_PA, 10000)"
   ]
  },
  {
   "cell_type": "code",
   "execution_count": null,
   "metadata": {},
   "outputs": [],
   "source": []
  }
 ],
 "metadata": {
  "colab": {
   "collapsed_sections": [],
   "name": "lab_2.ipynb",
   "provenance": []
  },
  "kernelspec": {
   "display_name": "Python 3 (ipykernel)",
   "language": "python",
   "name": "python3"
  },
  "language_info": {
   "codemirror_mode": {
    "name": "ipython",
    "version": 3
   },
   "file_extension": ".py",
   "mimetype": "text/x-python",
   "name": "python",
   "nbconvert_exporter": "python",
   "pygments_lexer": "ipython3",
   "version": "3.7.13"
  }
 },
 "nbformat": 4,
 "nbformat_minor": 1
}
