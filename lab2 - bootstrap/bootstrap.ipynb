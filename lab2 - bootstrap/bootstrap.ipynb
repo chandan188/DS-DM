{
 "cells": [
  {
   "cell_type": "markdown",
   "metadata": {
    "colab_type": "text",
    "id": "view-in-github"
   },
   "source": [
    "<a href=\"https://colab.research.google.com/github/albanda/CE888/blob/master/lab2%20-%20bootstrap/bootstrap.ipynb\" target=\"_parent\"><img src=\"https://colab.research.google.com/assets/colab-badge.svg\" alt=\"Open In Colab\"/></a>"
   ]
  },
  {
   "cell_type": "markdown",
   "metadata": {
    "id": "nCi_99yMYIb1"
   },
   "source": [
    "In this notebook you'll create your own bootstrap function following the bootstrap algorithm (check the lecture notes!)"
   ]
  },
  {
   "cell_type": "code",
   "execution_count": 1,
   "metadata": {
    "id": "LY5zujI2YC37",
    "pycharm": {
     "name": "#%%# Imports\n"
    }
   },
   "outputs": [],
   "source": [
    "import matplotlib\n",
    "import pandas as pd\n",
    "import seaborn as sns\n",
    "import numpy as np\n",
    "\n"
   ]
  },
  {
   "cell_type": "code",
   "execution_count": 2,
   "metadata": {
    "id": "Eqkwj4SMY38t"
   },
   "outputs": [],
   "source": [
    "# Load the data\n",
    "df = pd.read_csv('https://raw.githubusercontent.com/albanda/CE888/master/lab2%20-%20bootstrap/customers.csv')\n",
    "data = df.values.T[1]"
   ]
  },
  {
   "cell_type": "code",
   "execution_count": 3,
   "metadata": {
    "id": "Gxvc_bScYC4H",
    "pycharm": {
     "name": "#%%\n"
    }
   },
   "outputs": [],
   "source": [
    "# Checking the notes from the lecture, create here your own bootstrap function:\n",
    "# 1. Sample from the input array x to create an array of samples of shape (n_bootstraps, sample_size)\n",
    "# Hint: Check the function random.choice() on Numpy\n",
    "# 2. Calculate and save the mean of the array (this is \"data_mean\" that is returned by the function)\n",
    "# 3. Calculate the mean from each bootstrap (i.e., row) and store it.\n",
    "# (This should be an array of n_bootstraps values)\n",
    "# 4. Calculate the lower and upper bounds for a 95% CI (hint: check the percentile function on Numpy)\n",
    "# 5. Return data_mean, and the lower and upper bounds of your interval\n",
    "def bootstrap_mean(x, sample_size, n_bootstraps):\n",
    "    data_array = np.random.choice(x,size=(n_bootstraps, sample_size))\n",
    "    data_array_mean = data_array.mean(axis=1)\n",
    "    data_array_sort = np.sort(data_array_mean)\n",
    "    data_mean = np.mean(data_array_sort)\n",
    "    lower = np.percentile(data_array_sort, 2.5)\n",
    "    upper = np.percentile(data_array_sort, 97.5)\n",
    "    return data_mean, lower, upper\n"
   ]
  },
  {
   "cell_type": "code",
   "execution_count": 4,
   "metadata": {
    "id": "AN7sEOcMYC4P",
    "pycharm": {
     "name": "#%%\n"
    }
   },
   "outputs": [
    {
     "name": "stderr",
     "output_type": "stream",
     "text": [
      "C:\\Users\\suchi\\anaconda3\\envs\\tensor\\lib\\site-packages\\seaborn\\_decorators.py:43: FutureWarning: Pass the following variables as keyword args: x, y. From version 0.12, the only valid positional argument will be `data`, and passing other arguments without an explicit keyword will result in an error or misinterpretation.\n",
      "  FutureWarning\n"
     ]
    },
    {
     "data": {
      "text/plain": [
       "(0.0, 50000.0)"
      ]
     },
     "execution_count": 4,
     "metadata": {},
     "output_type": "execute_result"
    },
    {
     "data": {
      "image/png": "[encoded data removed]",
      "text/plain": [
       "<Figure size 425.125x360 with 1 Axes>"
      ]
     },
     "metadata": {
      "needs_background": "light"
     },
     "output_type": "display_data"
    }
   ],
   "source": [
    "# Call your bootstrap function and plot the results\n",
    "\n",
    "boots = []\n",
    "for i in range(100, 50000, 1000):\n",
    "    boot = bootstrap_mean(data, data.shape[0], i)\n",
    "    boots.append([i, boot[0], \"mean\"])\n",
    "    boots.append([i, boot[1], \"lower\"])\n",
    "    boots.append([i, boot[2], \"upper\"])\n",
    "\n",
    "df_boot = pd.DataFrame(boots, columns=['Bootstrap Iterations', 'Mean', \"Value\"])\n",
    "sns_plot = sns.lmplot(df_boot.columns[0], df_boot.columns[1], data=df_boot, fit_reg=False, hue=\"Value\")\n",
    "\n",
    "sns_plot.axes[0, 0].set_ylim(0,)\n",
    "sns_plot.axes[0, 0].set_xlim(0, 50000)\n"
   ]
  },
  {
   "cell_type": "markdown",
   "metadata": {
    "id": "MjtP4e2_YC4V"
   },
   "source": [
    "\n",
    "Now, modify the bootstrap function you created above so that you can pass your desired confidence interval as a parameter.\n",
    "\n"
   ]
  },
  {
   "cell_type": "code",
   "execution_count": 5,
   "metadata": {
    "id": "3K9j0FuGYhHs"
   },
   "outputs": [],
   "source": [
    "def bootstrap_mean_ci(sample, sample_size, n_bootstraps, ci):\n",
    "    data_array = np.random.choice(sample,size=(n_bootstraps, sample_size))\n",
    "    data_array_mean = np.nanmean(data_array, axis=1)\n",
    "    data_array_sort = np.sort(data_array_mean)\n",
    "    data_mean = np.mean(data_array_sort)\n",
    "    lower_bound_int = (100-ci)/2\n",
    "    upper_bound_int = 100-lower_bound_int\n",
    "    lower = np.percentile(data_array_sort, lower_bound_int)\n",
    "    upper = np.percentile(data_array_sort, upper_bound_int)\n",
    "    return data_mean, lower, upper"
   ]
  },
  {
   "cell_type": "code",
   "execution_count": 9,
   "metadata": {},
   "outputs": [],
   "source": [
    "def bootstrap_sd_ci(sample, sample_size, n_bootstraps, ci):\n",
    "    data_array = np.random.choice(sample,size=(n_bootstraps, sample_size))\n",
    "    data_array_std = np.std(data_array, axis=1)\n",
    "    data_array_sort = np.sort(data_array_std)\n",
    "    data_std = np.std(data_array_sort)\n",
    "    lower_bound_int = (100-ci)/2\n",
    "    upper_bound_int = 100-lower_bound_int\n",
    "    lower = np.percentile(data_array_sort, lower_bound_int)\n",
    "    upper = np.percentile(data_array_sort, upper_bound_int)\n",
    "    return data_std, lower, upper"
   ]
  },
  {
   "cell_type": "code",
   "execution_count": 10,
   "metadata": {
    "id": "uDnjq08GYl-C"
   },
   "outputs": [
    {
     "name": "stderr",
     "output_type": "stream",
     "text": [
      "C:\\Users\\suchi\\anaconda3\\envs\\tensor\\lib\\site-packages\\seaborn\\_decorators.py:43: FutureWarning: Pass the following variables as keyword args: x, y. From version 0.12, the only valid positional argument will be `data`, and passing other arguments without an explicit keyword will result in an error or misinterpretation.\n",
      "  FutureWarning\n"
     ]
    },
    {
     "data": {
      "text/plain": [
       "(0.0, 50000.0)"
      ]
     },
     "execution_count": 10,
     "metadata": {},
     "output_type": "execute_result"
    },
    {
     "data": {
      "image/png": "[encoded data removed]",
      "text/plain": [
       "<Figure size 425.125x360 with 1 Axes>"
      ]
     },
     "metadata": {
      "needs_background": "light"
     },
     "output_type": "display_data"
    }
   ],
   "source": [
    "boots = []\n",
    "for i in range(100, 50000, 1000):\n",
    "    boot = bootstrap_mean_ci(data, data.shape[0], i, 80)\n",
    "    boots.append([i, boot[0], \"mean\"])\n",
    "    boots.append([i, boot[1], \"lower\"])\n",
    "    boots.append([i, boot[2], \"upper\"])\n",
    "\n",
    "df_boot = pd.DataFrame(boots, columns=['Boostrap Iterations', 'Mean', \"Value\"])\n",
    "sns_plot = sns.lmplot(df_boot.columns[0], df_boot.columns[1], data=df_boot, fit_reg=False, hue=\"Value\")\n",
    "\n",
    "sns_plot.axes[0, 0].set_ylim(0,)\n",
    "sns_plot.axes[0, 0].set_xlim(0, 50000)\n",
    "\n",
    "#sns_plot.savefig(\"bootstrap_confidence_80.pdf\", bbox_inches='tight')\n"
   ]
  },
  {
   "cell_type": "markdown",
   "metadata": {
    "id": "qjNgXW6wdd7r"
   },
   "source": [
    "# Vehicles dataset\n",
    "\n",
    "Now let's work on a different dataset, which is stored in the vehicles.csv file.\n"
   ]
  },
  {
   "cell_type": "code",
   "execution_count": 11,
   "metadata": {
    "id": "avWv4ipFdpka"
   },
   "outputs": [
    {
     "name": "stderr",
     "output_type": "stream",
     "text": [
      "C:\\Users\\suchi\\anaconda3\\envs\\tensor\\lib\\site-packages\\seaborn\\_decorators.py:43: FutureWarning: Pass the following variables as keyword args: x, y. From version 0.12, the only valid positional argument will be `data`, and passing other arguments without an explicit keyword will result in an error or misinterpretation.\n",
      "  FutureWarning\n",
      "C:\\Users\\suchi\\anaconda3\\envs\\tensor\\lib\\site-packages\\seaborn\\_decorators.py:43: FutureWarning: Pass the following variables as keyword args: x, y. From version 0.12, the only valid positional argument will be `data`, and passing other arguments without an explicit keyword will result in an error or misinterpretation.\n",
      "  FutureWarning\n"
     ]
    },
    {
     "data": {
      "text/plain": [
       "<seaborn.axisgrid.FacetGrid at 0x125ee252348>"
      ]
     },
     "execution_count": 11,
     "metadata": {},
     "output_type": "execute_result"
    },
    {
     "data": {
      "image/png": "[encoded data removed]",
      "text/plain": [
       "<Figure size 360x360 with 1 Axes>"
      ]
     },
     "metadata": {
      "needs_background": "light"
     },
     "output_type": "display_data"
    },
    {
     "data": {
      "image/png": "[encoded data removed]",
      "text/plain": [
       "<Figure size 360x360 with 1 Axes>"
      ]
     },
     "metadata": {
      "needs_background": "light"
     },
     "output_type": "display_data"
    }
   ],
   "source": [
    "# Load and visualise the vehicles dataset\n",
    "# To load the dataset: https://neptune.ai/blog/google-colab-dealing-with-files (check section \"Load individual files directly from GitHub\")\n",
    "\n",
    "\n",
    "# Note that the current and new fleets are in different columns and have different lengths, so bear this in mind when you're plotting.\n",
    "# You can create separate scatterplots for the two fleets, as you would with the histograms, \n",
    "# or plot them both in one plot (but not one against the other).\n",
    "# <---INSERT YOUR CODE HERE--->\n",
    "# Note: you can add more cells as needed to organise your code and your plots\n",
    "\n",
    "vehicle_dataset = pd.read_csv('https://raw.githubusercontent.com/albanda/CE888/master/lab2%20-%20bootstrap/vehicles.csv')\n",
    "vehicle_dataset.insert(0, 'Some Task', range(1, 1 + len(vehicle_dataset)))\n",
    "sns.lmplot(vehicle_dataset.columns[0], vehicle_dataset.columns[1], data=vehicle_dataset, fit_reg=False)\n",
    "sns.lmplot(vehicle_dataset.columns[0], vehicle_dataset.columns[2], data=vehicle_dataset, fit_reg=False)"
   ]
  },
  {
   "cell_type": "markdown",
   "metadata": {
    "id": "B5d0tXDpIEj8"
   },
   "source": [
    "## Compare the two fleets\n",
    "\n",
    "The business analysts come up a comparison algorithm that requires the upper and lower bounds for the mean in order to say which fleet is better.\n",
    "1. Calculate the mean of both samples.\n",
    "2. Using the bootstrap function that you created:\n",
    "    - Construct the 95% CI of the mean of the current fleet.\n",
    "    - Construct the 95% CI of the mean of the new fleet.\n",
    "    - Are they comparable? (i.e., is one better than the other?) -- you can do this with a permutation test (check the lecture notes!)"
   ]
  },
  {
   "cell_type": "code",
   "execution_count": 12,
   "metadata": {
    "id": "po4mp6zRHC0m"
   },
   "outputs": [
    {
     "name": "stdout",
     "output_type": "stream",
     "text": [
      "vehical_data_mean Some Task        125.000000\n",
      "Current fleet     20.144578\n",
      "New Fleet         30.481013\n",
      "dtype: float64\n",
      "20.13648 16.5 24.40249999999996\n",
      "new sample\n",
      "30.47598 28.9 32.1\n",
      "std\n",
      "1.471306902815806 3.0805843601498726 8.646574386637939\n"
     ]
    }
   ],
   "source": [
    "vehical_data_mean = vehicle_dataset.mean(axis = 0, skipna = True)\n",
    "print('vehical_data_mean ' + str(vehical_data_mean))\n",
    "old_fleet_sample = vehicle_dataset.iloc[:,1]\n",
    "data_mean_curr, lower_curr, upper_curr = bootstrap_mean_ci(old_fleet_sample, 10, 10000, 95)\n",
    "print(data_mean_curr, lower_curr, upper_curr)\n",
    "\n",
    "print('new sample')\n",
    "vehicle_new_fleet = vehicle_dataset.iloc[:,2].dropna()\n",
    "data_mean_new, lower_new, upper_new = bootstrap_mean_ci(vehicle_new_fleet, 10, 10000, 60)\n",
    "print(data_mean_new, lower_new, upper_new)\n",
    "\n",
    "print('std')\n",
    "data_std_new, lower_new, upper_new = bootstrap_sd_ci(vehicle_dataset.iloc[:,1], 10, 10000, 95)\n",
    "print(data_std_new, lower_new, upper_new)\n"
   ]
  },
  {
   "cell_type": "code",
   "execution_count": 13,
   "metadata": {
    "id": "MkxvDZG4HC0n"
   },
   "outputs": [],
   "source": [
    "# Create your own function for a permutation test here (you will need it for the lab quiz!):\n",
    "def permut_test(sample1, sample2, n_permutations):\n",
    "    \"\"\"\n",
    "    sample1: 1D array\n",
    "    sample2: 1D array (note that the size of the two arrays can be different)\n",
    "    n_permutations: number of permutations to calculate the p-value\n",
    "    \"\"\"\n",
    "    tobs = np.mean(sample2)-np.mean(sample1)\n",
    "\n",
    "    concat = np.concatenate((sample1, sample2))\n",
    "    count=0    \n",
    "    for i in range(n_permutations):\n",
    "        perm = np.random.permutation(concat)\n",
    "        pold = perm[:int(len(perm)/2)]\n",
    "        pnew = perm[int(len(perm)/2):]\n",
    "        tperm = np.mean(pnew)-np.mean(pold)\n",
    "        if tperm>tobs:\n",
    "            count+=1\n",
    "    pvalue = count/n_permutations\n",
    "    return pvalue, tperm, tobs"
   ]
  },
  {
   "cell_type": "code",
   "execution_count": 14,
   "metadata": {},
   "outputs": [
    {
     "name": "stdout",
     "output_type": "stream",
     "text": [
      "(0.0, -0.15853658536585513, 10.336434344974837)\n"
     ]
    }
   ],
   "source": [
    "current_old_data = old_fleet_sample\n",
    "new_data = vehicle_new_fleet\n",
    "\n",
    "# sample1 = [0,0,0,1,1,1,1,1,0,0,0]\n",
    "# sample2 = [1,1,1,1,1,1,1,1,1,0,0,0,0,1,0,1,0]\n",
    "\n",
    "pvalue = permut_test(current_old_data, new_data, 30000)\n",
    "print(pvalue)"
   ]
  },
  {
   "cell_type": "code",
   "execution_count": 15,
   "metadata": {},
   "outputs": [
    {
     "name": "stdout",
     "output_type": "stream",
     "text": [
      "67\n",
      "88\n",
      "44.33723096 39.355983333333334 49.25471666666667\n",
      "45.47195629333334 40.75396666666667 50.61471666666667\n",
      "(0.76735, -0.8160189810189848, -1.1582360922659447)\n"
     ]
    }
   ],
   "source": [
    "dem_share_PA = [60.08, 40.64, 36.07, 41.21, 31.04, 43.78, 44.08, 46.85, 44.71, 46.15, 63.10, 52.20, 43.18, 40.24, 39.92, 47.87, 37.77, 40.11, 49.85, 48.61, 38.62, 54.25, 34.84, 47.75, 43.82, 55.97, 58.23, 42.97, 42.38, 36.11, 37.53, 42.65, 50.96, 47.43, 56.24, 45.60, 46.39, 35.22, 48.56, 32.97, 57.88, 36.05, 37.72, 50.36, 32.12, 41.55, 54.66, 57.81, 54.58, 32.88, 54.37, 40.45, 47.61, 60.49, 43.11, 27.32, 44.03, 33.56, 37.26, 54.64, 43.12, 25.34, 49.79, 83.56, 40.09, 60.81, 49.81]\n",
    "dem_share_OH = [56.94, 50.46, 65.99, 45.88, 42.23, 45.26, 57.01, 53.61, 59.10, 61.48, 43.43, 44.69, 54.59, 48.36, 45.89, 48.62, 43.92, 38.23, 28.79, 63.57, 38.07, 40.18, 43.05, 41.56, 42.49, 36.06, 52.76, 46.07, 39.43, 39.26, 47.47, 27.92, 38.01, 45.45, 29.07, 28.94, 51.28, 50.10, 39.84, 36.43, 35.71, 31.47, 47.01, 40.10, 48.76, 31.56, 39.86, 45.31, 35.47, 51.38, 46.33, 48.73, 41.77, 41.32, 48.46, 53.14, 34.01, 54.74, 40.67, 38.96, 46.29, 38.25, 6.80, 31.75, 46.33, 44.90, 33.57, 38.10, 39.67, 40.47, 49.44, 37.62, 36.71, 46.73, 42.20, 53.16, 52.40, 58.36, 68.02, 38.53, 34.58, 69.64, 60.50, 53.53, 36.54, 49.58, 41.97, 38.11]\n",
    "\n",
    "print(len(dem_share_PA))\n",
    "print(len(dem_share_OH))\n",
    "\n",
    "data_mean_new, lower_new, upper_new = bootstrap_mean_ci(dem_share_OH, 15, 25000, 95)\n",
    "print(data_mean_new, lower_new, upper_new)\n",
    "\n",
    "data_mean_new, lower_new, upper_new = bootstrap_mean_ci(dem_share_PA, 15, 25000, 95)\n",
    "print(data_mean_new, lower_new, upper_new)\n",
    "\n",
    "pvalue = permut_test(dem_share_PA, dem_share_OH, 20000)\n",
    "print(pvalue)\n"
   ]
  },
  {
   "cell_type": "code",
   "execution_count": null,
   "metadata": {},
   "outputs": [],
   "source": []
  }
 ],
 "metadata": {
  "colab": {
   "include_colab_link": true,
   "name": "bootstrap.ipynb",
   "provenance": []
  },
  "kernelspec": {
   "display_name": "Python 3 (ipykernel)",
   "language": "python",
   "name": "python3"
  },
  "language_info": {
   "codemirror_mode": {
    "name": "ipython",
    "version": 3
   },
   "file_extension": ".py",
   "mimetype": "text/x-python",
   "name": "python",
   "nbconvert_exporter": "python",
   "pygments_lexer": "ipython3",
   "version": "3.7.11"
  },
  "pycharm": {
   "stem_cell": {
    "cell_type": "raw",
    "metadata": {
     "collapsed": false
    },
    "source": []
   }
  }
 },
 "nbformat": 4,
 "nbformat_minor": 1
}
